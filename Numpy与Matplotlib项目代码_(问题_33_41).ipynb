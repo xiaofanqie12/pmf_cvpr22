{
  "cells": [
    {
      "cell_type": "markdown",
      "metadata": {
        "id": "view-in-github",
        "colab_type": "text"
      },
      "source": [
        "<a href=\"https://colab.research.google.com/github/xiaofanqie12/pmf_cvpr22/blob/main/Numpy%E4%B8%8EMatplotlib%E9%A1%B9%E7%9B%AE%E4%BB%A3%E7%A0%81_(%E9%97%AE%E9%A2%98_33_41).ipynb\" target=\"_parent\"><img src=\"https://colab.research.google.com/assets/colab-badge.svg\" alt=\"Open In Colab\"/></a>"
      ]
    }
  ],
  "metadata": {
    "colab": {
      "provenance": [],
      "include_colab_link": true
    },
    "kernelspec": {
      "display_name": "Python 3",
      "name": "python3"
    }
  },
  "nbformat": 4,
  "nbformat_minor": 0
}